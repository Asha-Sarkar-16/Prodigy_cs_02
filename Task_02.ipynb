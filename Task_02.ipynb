{
  "nbformat": 4,
  "nbformat_minor": 0,
  "metadata": {
    "colab": {
      "provenance": [],
      "authorship_tag": "ABX9TyNXRIcnm6R4V6sOEfT3tU9L",
      "include_colab_link": true
    },
    "kernelspec": {
      "name": "python3",
      "display_name": "Python 3"
    },
    "language_info": {
      "name": "python"
    }
  },
  "cells": [
    {
      "cell_type": "markdown",
      "metadata": {
        "id": "view-in-github",
        "colab_type": "text"
      },
      "source": [
        "<a href=\"https://colab.research.google.com/github/Asha-Sarkar-16/Prodigy_cs_02/blob/prodigy/Task_02.ipynb\" target=\"_parent\"><img src=\"https://colab.research.google.com/assets/colab-badge.svg\" alt=\"Open In Colab\"/></a>"
      ]
    },
    {
      "cell_type": "code",
      "execution_count": null,
      "metadata": {
        "id": "yLJUTwXf9AXH"
      },
      "outputs": [],
      "source": [
        "from PIL import Image\n",
        "\n",
        "def encrypt_image(input_path, output_path, key):\n",
        "    img = Image.open(input_path)\n",
        "    pixels = img.load()\n",
        "\n",
        "    width, height = img.size\n",
        "\n",
        "    for i in range(width):\n",
        "        for j in range(height):\n",
        "            r, g, b = pixels[i, j]\n",
        "\n",
        "            # swapping red and blue channels\n",
        "            encrypted_pixel = (b, g, r)\n",
        "\n",
        "            pixels[i, j] = encrypted_pixel\n",
        "\n",
        "    img.save(output_path)\n",
        "    print(\"Image encrypted successfully!\")\n",
        "\n",
        "def decrypt_image(input_path, output_path, key):\n",
        "    img = Image.open(input_path)\n",
        "    pixels = img.load()\n",
        "\n",
        "    width, height = img.size\n",
        "\n",
        "    for i in range(width):\n",
        "        for j in range(height):\n",
        "            r, g, b = pixels[i, j]\n",
        "\n",
        "            # swapping red and blue channels back\n",
        "            decrypted_pixel = (b, g, r)\n",
        "\n",
        "            pixels[i, j] = decrypted_pixel\n",
        "\n",
        "    img.save(output_path)\n",
        "    print(\"Image decrypted successfully!\")\n",
        "\n",
        " # image path\n",
        "input_image = r\"C:\\Users\\asha latha\\Pictures\\doreamon.jpg\"\n",
        "encrypted_image = r\"C:\\Users\\asha latha\\Pictures\\encrypted_image.jpg.bmp\"\n",
        "decrypted_image = r\"C:\\Users\\asha latha\\Pictures\\decrypted_image.jpg.bmp\"\n",
        "# Encrypt the image\n",
        "encrypt_image(input_image, encrypted_image, key=None)\n",
        "\n",
        "# Decrypt the image\n",
        "decrypt_image(encrypted_image, decrypted_image, key=None)"
      ]
    }
  ]
}